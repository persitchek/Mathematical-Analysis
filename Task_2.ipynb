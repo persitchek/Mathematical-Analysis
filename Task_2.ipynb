{
 "cells": [
  {
   "cell_type": "markdown",
   "id": "d31bacb4",
   "metadata": {},
   "source": [
    "## Практическое задание к вебинару №2"
   ]
  },
  {
   "cell_type": "code",
   "execution_count": 1,
   "id": "88f1ffcb",
   "metadata": {},
   "outputs": [],
   "source": [
    "#Даны три множества a,b и с. Необходимо выполнить все изученные виды бинарных операций над всеми комбинациями множеств."
   ]
  },
  {
   "cell_type": "code",
   "execution_count": 4,
   "id": "ce786d04",
   "metadata": {},
   "outputs": [
    {
     "name": "stdout",
     "output_type": "stream",
     "text": [
      "{'1', '4', '2', '3'}\n",
      "{'7', '5', '8', '6'}\n",
      "{'c', 'a', 'e', 'b', 'd'}\n"
     ]
    }
   ],
   "source": [
    "a = set('1234')\n",
    "print(a)\n",
    "b = set('5678')\n",
    "print(b)\n",
    "c = set('abcde')\n",
    "print(c)"
   ]
  },
  {
   "cell_type": "code",
   "execution_count": 5,
   "id": "f81f713e",
   "metadata": {},
   "outputs": [
    {
     "name": "stdout",
     "output_type": "stream",
     "text": [
      "{'7', '2', '3', '1', '5', '4', '6', '8'} {'c', '2', '3', '1', 'a', '4', 'e', 'b', 'd'}\n",
      "set() set()\n",
      "{'1', '4', '3', '2'} {'1', '4', '3', '2'}\n",
      "{'7', '5', '8', '6'} {'c', 'a', 'e', 'b', 'd'}\n",
      "{'7', '2', '3', '1', '5', '4', '6', '8'} {'c', '4', 'e', 'd', '2', '3', 'a', '1', 'b'}\n"
     ]
    }
   ],
   "source": [
    "print(a | b, a | c) #объединение\n",
    "print(a & b, a & c) # пересечение\n",
    "print(a - b, a - c) #разность\n",
    "print(b - a, c - a) #разность2\n",
    "print(a ^ b, a ^ c) #симметричная разность"
   ]
  },
  {
   "cell_type": "code",
   "execution_count": null,
   "id": "ce8c6eb3",
   "metadata": {},
   "outputs": [],
   "source": []
  }
 ],
 "metadata": {
  "kernelspec": {
   "display_name": "Python 3 (ipykernel)",
   "language": "python",
   "name": "python3"
  },
  "language_info": {
   "codemirror_mode": {
    "name": "ipython",
    "version": 3
   },
   "file_extension": ".py",
   "mimetype": "text/x-python",
   "name": "python",
   "nbconvert_exporter": "python",
   "pygments_lexer": "ipython3",
   "version": "3.9.7"
  }
 },
 "nbformat": 4,
 "nbformat_minor": 5
}
